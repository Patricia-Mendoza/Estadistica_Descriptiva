{
 "cells": [
  {
   "cell_type": "code",
   "execution_count": 15,
   "id": "4c0b9db1-0921-4fbf-b842-ca85bee7738a",
   "metadata": {},
   "outputs": [
    {
     "data": {
      "text/html": [
       "\n",
       "<style>\n",
       "/* Fondo general */\n",
       "body {\n",
       "    background-color: #95c1ed; /* azul muy claro */\n",
       "    font-family: 'Segoe UI', Tahoma, sans-serif;\n",
       "    color: #333333;\n",
       "}\n",
       "\n",
       "/* Títulos */\n",
       "h1, h3, b {\n",
       "    color: #333333;\n",
       "}\n",
       "\n",
       "/* Botones */\n",
       "button {\n",
       "    background-color: #1f7a9c !important;\n",
       "    color: white !important;\n",
       "    border-radius: 6px !important;\n",
       "    padding: 6px 12px !important;\n",
       "}\n",
       "button:hover {\n",
       "    background-color: #45a049 !important;\n",
       "}\n",
       "\n",
       "/* Widgets */\n",
       ".widget-label {\n",
       "    font-weight: bold;\n",
       "    color: #444444;\n",
       "}\n",
       ".widget-dropdown, .widget-text {\n",
       "    border-radius: 5px;\n",
       "    border: 1px solid #ccc;\n",
       "}\n",
       "\n",
       "/* Tablas */\n",
       ".dataframe {\n",
       "    border-collapse: collapse;\n",
       "    width: 100%;\n",
       "}\n",
       ".dataframe th, .dataframe td {\n",
       "    border: 1px solid #ccc;\n",
       "    padding: 6px;\n",
       "}\n",
       ".dataframe th {\n",
       "    background-color: #e0e0e0;\n",
       "}\n",
       "</style>\n"
      ],
      "text/plain": [
       "<IPython.core.display.HTML object>"
      ]
     },
     "metadata": {},
     "output_type": "display_data"
    }
   ],
   "source": [
    "from IPython.display import HTML\n",
    "\n",
    "custom_css = \"\"\"\n",
    "<style>\n",
    "/* Fondo general */\n",
    "body {\n",
    "    background-color: #95c1ed; /* azul muy claro */\n",
    "    font-family: 'Segoe UI', Tahoma, sans-serif;\n",
    "    color: #333333;\n",
    "}\n",
    "\n",
    "/* Títulos */\n",
    "h1, h3, b {\n",
    "    color: #333333;\n",
    "}\n",
    "\n",
    "/* Botones */\n",
    "button {\n",
    "    background-color: #1f7a9c !important;\n",
    "    color: white !important;\n",
    "    border-radius: 6px !important;\n",
    "    padding: 6px 12px !important;\n",
    "}\n",
    "button:hover {\n",
    "    background-color: #45a049 !important;\n",
    "}\n",
    "\n",
    "/* Widgets */\n",
    ".widget-label {\n",
    "    font-weight: bold;\n",
    "    color: #444444;\n",
    "}\n",
    ".widget-dropdown, .widget-text {\n",
    "    border-radius: 5px;\n",
    "    border: 1px solid #ccc;\n",
    "}\n",
    "\n",
    "/* Tablas */\n",
    ".dataframe {\n",
    "    border-collapse: collapse;\n",
    "    width: 100%;\n",
    "}\n",
    ".dataframe th, .dataframe td {\n",
    "    border: 1px solid #ccc;\n",
    "    padding: 6px;\n",
    "}\n",
    ".dataframe th {\n",
    "    background-color: #e0e0e0;\n",
    "}\n",
    "</style>\n",
    "\"\"\"\n",
    "display(HTML(custom_css))\n"
   ]
  },
  {
   "cell_type": "code",
   "execution_count": 31,
   "id": "a6b5f21c-b889-4624-9953-a0502f228519",
   "metadata": {},
   "outputs": [
    {
     "data": {
      "application/vnd.jupyter.widget-view+json": {
       "model_id": "1f8f477a2d9a4f82a64d4a71a77d2fd5",
       "version_major": 2,
       "version_minor": 0
      },
      "text/plain": [
       "HTML(value='<h1>Estadística descriptiva</h1>')"
      ]
     },
     "metadata": {},
     "output_type": "display_data"
    },
    {
     "data": {
      "application/vnd.jupyter.widget-view+json": {
       "model_id": "e10ce7e948bc40d89513c4bc42b548b6",
       "version_major": 2,
       "version_minor": 0
      },
      "text/plain": [
       "HTML(value='<p>Sube tu archivo Excel, indica los tipos de variable y conoce tus datos 😊</p>')"
      ]
     },
     "metadata": {},
     "output_type": "display_data"
    },
    {
     "data": {
      "application/vnd.jupyter.widget-view+json": {
       "model_id": "a0a3c1f66e5344c6b366ff661202acda",
       "version_major": 2,
       "version_minor": 0
      },
      "text/plain": [
       "HTML(value='<b> 📂  1. Sube tu archivo Excel:</b>')"
      ]
     },
     "metadata": {},
     "output_type": "display_data"
    },
    {
     "data": {
      "application/vnd.jupyter.widget-view+json": {
       "model_id": "c1119eebcd724aa0b794dd9e8a7a81c4",
       "version_major": 2,
       "version_minor": 0
      },
      "text/plain": [
       "FileUpload(value=(), accept='.xls,.xlsx', description='Sube tu archivo Excel')"
      ]
     },
     "metadata": {},
     "output_type": "display_data"
    },
    {
     "data": {
      "application/vnd.jupyter.widget-view+json": {
       "model_id": "a4cfe4818cfd4aa08a154a7374b31704",
       "version_major": 2,
       "version_minor": 0
      },
      "text/plain": [
       "Output()"
      ]
     },
     "metadata": {},
     "output_type": "display_data"
    },
    {
     "data": {
      "application/vnd.jupyter.widget-view+json": {
       "model_id": "4a23d39f23d64694a61848bbe167aef6",
       "version_major": 2,
       "version_minor": 0
      },
      "text/plain": [
       "HTML(value='<b>2. Indica los tipos de variable (opcional):</b>')"
      ]
     },
     "metadata": {},
     "output_type": "display_data"
    },
    {
     "data": {
      "application/vnd.jupyter.widget-view+json": {
       "model_id": "1cf0778e2ae0453889698bc45ef616bc",
       "version_major": 2,
       "version_minor": 0
      },
      "text/plain": [
       "VBox()"
      ]
     },
     "metadata": {},
     "output_type": "display_data"
    },
    {
     "data": {
      "application/vnd.jupyter.widget-view+json": {
       "model_id": "a3efac62c8d64fccbcc8807516d44277",
       "version_major": 2,
       "version_minor": 0
      },
      "text/plain": [
       "Output()"
      ]
     },
     "metadata": {},
     "output_type": "display_data"
    },
    {
     "data": {
      "application/vnd.jupyter.widget-view+json": {
       "model_id": "1a53e0e72af8422f8506ad56b30f791e",
       "version_major": 2,
       "version_minor": 0
      },
      "text/plain": [
       "HTML(value='<h3> 📊 Visualización de variable</h3>')"
      ]
     },
     "metadata": {},
     "output_type": "display_data"
    },
    {
     "data": {
      "application/vnd.jupyter.widget-view+json": {
       "model_id": "2a760f0359764807a5b2716dce023d51",
       "version_major": 2,
       "version_minor": 0
      },
      "text/plain": [
       "HBox(children=(Dropdown(description='Variable:', layout=Layout(width='400px'), options=(), value=None), IntSli…"
      ]
     },
     "metadata": {},
     "output_type": "display_data"
    },
    {
     "data": {
      "application/vnd.jupyter.widget-view+json": {
       "model_id": "a3b1fd4e81b74119a539df37706595b9",
       "version_major": 2,
       "version_minor": 0
      },
      "text/plain": [
       "Output()"
      ]
     },
     "metadata": {},
     "output_type": "display_data"
    }
   ],
   "source": [
    "import pandas as pd\n",
    "import io\n",
    "import matplotlib.pyplot as plt\n",
    "from IPython.display import display, clear_output, HTML\n",
    "import ipywidgets as widgets\n",
    "import seaborn as sns\n",
    "\n",
    "# --- helpers ---\n",
    "def infer_type(series):\n",
    "    if pd.api.types.is_numeric_dtype(series):\n",
    "        if series.nunique() <= 20:\n",
    "            return \"Numérica discreta\"\n",
    "        else:\n",
    "            return \"Numérica continua\"\n",
    "    else:\n",
    "        return \"Categórica\"\n",
    "\n",
    "def summarize_variable(df, col, assigned_type):\n",
    "    out = {}\n",
    "    series = df[col]\n",
    "    out[\"Nombre\"] = col\n",
    "    out[\"Tipo de variable\"] = assigned_type\n",
    "    out[\"Vacios\"] = int(series.isna().sum())\n",
    "    out[\"Únicos\"] = int(series.nunique(dropna=True))\n",
    "    if \"Categórica\" in assigned_type:\n",
    "        counts = series.astype(str).value_counts().head(5)\n",
    "        out[\"Categorías\"] = \", \".join([f\"{i}: {v}\" for i, v in counts.items()])\n",
    "        out[\"Media\"] = pd.NA\n",
    "        out[\"Mediana\"] = pd.NA\n",
    "        out[\"Q1\"] = pd.NA\n",
    "        out[\"Q3\"] = pd.NA\n",
    "        out[\"Desviación\"] = pd.NA\n",
    "        out[\"Min\"] = pd.NA\n",
    "        out[\"Max\"] = pd.NA\n",
    "    else:\n",
    "        out[\"Categorías\"] = pd.NA\n",
    "        if pd.api.types.is_numeric_dtype(series):\n",
    "            out[\"Media\"] = series.mean()\n",
    "            out[\"Mediana\"] = series.median()\n",
    "            out[\"Q1\"] = series.quantile(0.25)\n",
    "            out[\"Q3\"] = series.quantile(0.75)\n",
    "            out[\"Desviación\"] = series.std()\n",
    "            out[\"Min\"] = series.min()\n",
    "            out[\"Max\"] = series.max()\n",
    "        else:\n",
    "            out[\"Media\"] = pd.NA\n",
    "            out[\"Mediana\"] = pd.NA\n",
    "            out[\"Q1\"] = pd.NA\n",
    "            out[\"Q3\"] = pd.NA\n",
    "            out[\"Desviación\"] = pd.NA\n",
    "            out[\"Min\"] = pd.NA\n",
    "            out[\"Max\"] = pd.NA\n",
    "    return out\n",
    "\n",
    "def leer_excel_flexible(raw_bytes):\n",
    "    df = pd.read_excel(io.BytesIO(raw_bytes))\n",
    "    return df, \"default\"\n",
    "\n",
    "def extract_content(upload_value):\n",
    "    if isinstance(upload_value, dict):\n",
    "        return list(upload_value.values())[0]\n",
    "    elif isinstance(upload_value, (tuple, list)) and upload_value:\n",
    "        return upload_value[0]\n",
    "    else:\n",
    "        raise ValueError(\"Formato inesperado de upload.value\")\n",
    "\n",
    "def interpretar_variable_html(df, col, assigned_type):\n",
    "    serie = df[col].dropna()\n",
    "    n = len(serie)\n",
    "    if n == 0:\n",
    "        return \"<p>No hay datos</p>\"\n",
    "    \n",
    "    if \"Categórica\" in assigned_type:\n",
    "        counts = serie.astype(str).value_counts(normalize=True)\n",
    "        top_cat = counts.idxmax()\n",
    "        top_pct = counts.max() * 100\n",
    "        n_unique = serie.nunique()\n",
    "        text = f\"<p>La variable '<b>{col}</b>' es categórica con <b>{n_unique}</b> categorías únicas.</p>\"\n",
    "        text += f\"<p>La categoría con más frecuencia es '<b>{top_cat}</b>', representando el <b>{top_pct:.1f}%</b> de los datos.</p>\"\n",
    "        return text\n",
    "    \n",
    "    # Variables numéricas\n",
    "    mean = serie.mean()\n",
    "    median = serie.median()\n",
    "    q1 = serie.quantile(0.25)\n",
    "    q3 = serie.quantile(0.75)\n",
    "    iqr = q3 - q1\n",
    "    std = serie.std()\n",
    "    min_v = serie.min()\n",
    "    max_v = serie.max()\n",
    "\n",
    "    text = f\"<p>La variable '<b>{col}</b>' es numérica con <b>{n}</b> observaciones.</p>\"\n",
    "    text += f\"<p>Media (promedio) = <b>{mean:.3f}</b>, Mediana (Q2) = <b>{median:.3f}</b>.</p>\"\n",
    "    text += f\"<p>La desviación estándar es <b>{std:.3f}</b>, lo que nos indica la distancia promedio de los datos a la media.</p>\"\n",
    "    text += f\"<p>El rango intercuartílico IQR (Q3 - Q1) es <b>{iqr:.3f}</b>, lo que indica dispersión central.</p>\"\n",
    "    text += (\n",
    "        \"<ul>\"\n",
    "        \"<li>Un IQR pequeño → el 50% central de los datos está muy agrupado (baja variabilidad central).</li>\"\n",
    "        \"<li>Un IQR grande → el 50% central está muy disperso (alta variabilidad central).</li>\"\n",
    "        \"</ul>\"\n",
    "    )\n",
    "    text += f\"<p>El rango total va de <b>{min_v:.3f}</b> a <b>{max_v:.3f}</b>.</p>\"\n",
    "\n",
    "    lower_bound = q1 - 1.5 * iqr\n",
    "    upper_bound = q3 + 1.5 * iqr\n",
    "    outliers = serie[(serie < lower_bound) | (serie > upper_bound)]\n",
    "    if len(outliers) > 0:\n",
    "        text += f\"<p>Se tienen <b>{len(outliers)}</b> valores atípicos (valores fuera de los límites) [{lower_bound:.3f}, {upper_bound:.3f}].</p>\"\n",
    "    else:\n",
    "        text += \"<p>No se detectaron valores atípicos evidentes.</p>\"\n",
    "\n",
    "    return text\n",
    "\n",
    "# --- estado ---\n",
    "state = {\"df\": None, \"types\": {}}\n",
    "\n",
    "# --- widgets ---\n",
    "upload = widgets.FileUpload(accept='.xls,.xlsx', multiple=False, description=\"Sube tu archivo Excel\")\n",
    "type_override_box = widgets.VBox()\n",
    "summary_out = widgets.Output()\n",
    "plot_out = widgets.Output()\n",
    "status_out = widgets.Output()\n",
    "\n",
    "var_selector = widgets.Dropdown(description=\"Variable:\", options=[], layout=widgets.Layout(width=\"400px\"))\n",
    "bins_slider = widgets.IntSlider(value=25, min=5, max=100, step=5, description=\"Bins:\", layout=widgets.Layout(width=\"300px\"))\n",
    "log_scale_chk = widgets.Checkbox(value=False, description=\"Escala log\", indent=False)\n",
    "\n",
    "# --- funciones ---\n",
    "def build_type_override_widgets():\n",
    "    children = []\n",
    "    for col, inferred_type in state[\"types\"].items():\n",
    "        dd = widgets.Dropdown(\n",
    "            options=[\"Categórica\", \"Numérica discreta\", \"Numérica continua\"],\n",
    "            value=inferred_type,\n",
    "            description=col,\n",
    "            layout=widgets.Layout(width=\"450px\")\n",
    "        )\n",
    "        def on_change(change, column=col):\n",
    "            state[\"types\"][column] = change[\"new\"]\n",
    "            update_summary()\n",
    "            refresh_variable_selector()\n",
    "            plot_variable()\n",
    "        dd.observe(on_change, names=\"value\")\n",
    "        children.append(dd)\n",
    "    type_override_box.children = children\n",
    "\n",
    "def update_summary(*args):\n",
    "    summary_out.clear_output()\n",
    "    if state[\"df\"] is None:\n",
    "        return\n",
    "    df = state[\"df\"]\n",
    "    with summary_out:\n",
    "        clear_output()\n",
    "        print(\"Resumen de variables\")\n",
    "        summary_list = [summarize_variable(df, col, state[\"types\"][col]) for col in df.columns]\n",
    "        summary_df = pd.DataFrame(summary_list)\n",
    "        cols_order = [\"Nombre\",\"Tipo de variable\",\"Vacios\",\"Únicos\",\"Categorías\",\n",
    "                      \"Media\",\"Mediana\",\"Q1\",\"Q3\",\"Desviación\",\"Min\",\"Max\"]\n",
    "        summary_df = summary_df[cols_order]\n",
    "        pd.options.display.float_format = '{:.3f}'.format\n",
    "        display(summary_df)\n",
    "\n",
    "        var = var_selector.value\n",
    "        if var is not None:\n",
    "            assigned_type = state[\"types\"].get(var, \"Categórica\")\n",
    "            display(HTML(\"<h4>Interpretación de la variable seleccionada:</h4>\"))\n",
    "            texto_interpretacion = interpretar_variable_html(df, var, assigned_type)\n",
    "            display(HTML(texto_interpretacion))\n",
    "\n",
    "def refresh_variable_selector():\n",
    "    if state[\"df\"] is None:\n",
    "        var_selector.options = []\n",
    "        return\n",
    "    var_selector.options = list(state[\"df\"].columns)\n",
    "    if var_selector.options and var_selector.value not in var_selector.options:\n",
    "        var_selector.value = var_selector.options[0]\n",
    "\n",
    "def plot_variable(*args):\n",
    "    plot_out.clear_output()\n",
    "    if state[\"df\"] is None or not var_selector.value:\n",
    "        return\n",
    "    df = state[\"df\"]\n",
    "    var = var_selector.value\n",
    "    assigned_type = state[\"types\"].get(var, \"Categórica\")\n",
    "    series = df[var].dropna()\n",
    "\n",
    "    with plot_out:\n",
    "        clear_output()\n",
    "        if \"Categórica\" in assigned_type:\n",
    "            counts = series.astype(str).value_counts()\n",
    "            plt.figure(figsize=(7,5))\n",
    "            ax = sns.barplot(x=counts.index, y=counts.values, palette=\"pastel\", edgecolor='black')\n",
    "            ax.set_title(f\"Gráfico de barras: {var}\", fontsize=16, fontweight='bold')\n",
    "            ax.set_xlabel(var, fontsize=12)\n",
    "            ax.set_ylabel(\"Frecuencia\", fontsize=12)\n",
    "            plt.xticks(rotation=45, ha='right')\n",
    "            plt.tight_layout()\n",
    "            plt.show()\n",
    "        else:\n",
    "            # Histograma \n",
    "            plt.figure(figsize=(7,4))\n",
    "            ax = sns.histplot(series, bins=bins_slider.value, color=\"steelblue\", edgecolor='black', kde=False)\n",
    "            ax.set_title(f\"Histograma de {var}\", fontsize=16, fontweight='bold')\n",
    "            ax.set_xlabel(var, fontsize=12)\n",
    "            ax.set_ylabel(\"Frecuencia\", fontsize=12)\n",
    "            if log_scale_chk.value:\n",
    "                ax.set_yscale('log')\n",
    "            plt.tight_layout()\n",
    "            plt.show()\n",
    "\n",
    "            # Gráfica de densidad \n",
    "            plt.figure(figsize=(7,4))\n",
    "            ax = sns.kdeplot(series, color='steelblue', linewidth=2)\n",
    "            ax.set_title(f\"Densidad de {var}\", fontsize=16, fontweight='bold')\n",
    "            ax.set_xlabel(var, fontsize=12)\n",
    "            ax.set_ylabel(\"Densidad\", fontsize=12)\n",
    "            plt.tight_layout()\n",
    "            plt.show()\n",
    "\n",
    "            # Boxplot \n",
    "            plt.figure(figsize=(7,2.5))\n",
    "            ax = sns.boxplot(x=series, color='steelblue')\n",
    "            ax.set_title(f\"Boxplot de {var}\", fontsize=16, fontweight='bold')\n",
    "            plt.tight_layout()\n",
    "            plt.show()\n",
    "\n",
    "def on_upload(change):\n",
    "    plot_out.clear_output()\n",
    "    summary_out.clear_output()\n",
    "    status_out.clear_output()\n",
    "    if not upload.value:\n",
    "        with status_out:\n",
    "            clear_output()\n",
    "            print(\"No se ha subido ningún archivo.\")\n",
    "        return\n",
    "\n",
    "    with status_out:\n",
    "        clear_output()\n",
    "        print(\"Procesando archivo...\")\n",
    "\n",
    "    try:\n",
    "        content = extract_content(upload.value)\n",
    "    except Exception as e:\n",
    "        with status_out:\n",
    "            clear_output()\n",
    "            print(\"Error extrayendo el contenido del upload:\", repr(e))\n",
    "        return\n",
    "\n",
    "    try:\n",
    "        raw = content.get(\"content\", None)\n",
    "        if raw is None:\n",
    "            raise KeyError(\"No se encontró 'content' en el objeto recibido.\")\n",
    "    except Exception as e:\n",
    "        with status_out:\n",
    "            clear_output()\n",
    "            print(\"Error accediendo al contenido bruto del upload:\", repr(e))\n",
    "        return\n",
    "\n",
    "    try:\n",
    "        df, _ = leer_excel_flexible(raw)\n",
    "        with status_out:\n",
    "            clear_output()\n",
    "            print(f\"Archivo cargado correctamente.\")\n",
    "    except Exception as e:\n",
    "        with status_out:\n",
    "            clear_output()\n",
    "            print(\"Error al leer el archivo Excel. Detalle completo:\")\n",
    "            import traceback\n",
    "            traceback.print_exc()\n",
    "        with summary_out:\n",
    "            clear_output()\n",
    "            print(\"No se pudo cargar el archivo. Revisa su formato.\")\n",
    "        return\n",
    "\n",
    "    state[\"df\"] = df\n",
    "    inferred = {col: infer_type(df[col]) for col in df.columns}\n",
    "    state[\"types\"] = inferred.copy()\n",
    "\n",
    "    build_type_override_widgets()\n",
    "    update_summary()\n",
    "    refresh_variable_selector()\n",
    "    plot_variable()\n",
    "\n",
    "# --- conexiones ---\n",
    "upload.observe(on_upload, names=\"value\")\n",
    "var_selector.observe(update_summary, names=\"value\")\n",
    "var_selector.observe(plot_variable, names=\"value\")\n",
    "bins_slider.observe(plot_variable, names=\"value\")\n",
    "log_scale_chk.observe(plot_variable, names=\"value\")\n",
    "\n",
    "# --- interfaz ---\n",
    "display(widgets.HTML(\"<h1>Estadística descriptiva</h1>\"))\n",
    "display(widgets.HTML(\"<p>Sube tu archivo Excel, indica los tipos de variable y conoce tus datos 😊</p>\"))\n",
    "display(widgets.HTML(\"<b> 📂  1. Sube tu archivo Excel:</b>\"))\n",
    "display(upload)\n",
    "display(status_out)\n",
    "display(widgets.HTML(\"<b>2. Indica los tipos de variable (opcional):</b>\"))\n",
    "display(type_override_box)\n",
    "display(summary_out)\n",
    "\n",
    "display(widgets.HTML(\"<h3> 📊 Visualización de variable</h3>\"))\n",
    "display(widgets.HBox([var_selector, bins_slider, log_scale_chk]))\n",
    "display(plot_out)\n"
   ]
  },
  {
   "cell_type": "code",
   "execution_count": null,
   "id": "5e5c28a3-5d28-4e53-a829-ed0c623d1f04",
   "metadata": {},
   "outputs": [],
   "source": []
  },
  {
   "cell_type": "code",
   "execution_count": null,
   "id": "16259312-b353-4810-b395-cbd8efe5a948",
   "metadata": {},
   "outputs": [],
   "source": []
  }
 ],
 "metadata": {
  "kernelspec": {
   "display_name": "Python 3 (ipykernel)",
   "language": "python",
   "name": "python3"
  },
  "language_info": {
   "codemirror_mode": {
    "name": "ipython",
    "version": 3
   },
   "file_extension": ".py",
   "mimetype": "text/x-python",
   "name": "python",
   "nbconvert_exporter": "python",
   "pygments_lexer": "ipython3",
   "version": "3.13.1"
  }
 },
 "nbformat": 4,
 "nbformat_minor": 5
}
