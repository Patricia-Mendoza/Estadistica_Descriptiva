{
 "cells": [
  {
   "cell_type": "code",
   "execution_count": 3,
   "id": "2131f463-a27a-47d1-b9cf-9aea519e967a",
   "metadata": {},
   "outputs": [
    {
     "data": {
      "application/vnd.jupyter.widget-view+json": {
       "model_id": "ea70e87d4a9b484caa5d3b568914e0cd",
       "version_major": 2,
       "version_minor": 0
      },
      "text/plain": [
       "HTML(value='<h1>Estadística descriptiva</h1>')"
      ]
     },
     "metadata": {},
     "output_type": "display_data"
    },
    {
     "data": {
      "application/vnd.jupyter.widget-view+json": {
       "model_id": "b086aa6d93cc41ae9361745b5b49d7ec",
       "version_major": 2,
       "version_minor": 0
      },
      "text/plain": [
       "HTML(value='<p>Sube tu archivo CSV, indica los tipos de variable y conoce tus datos 😊</p>')"
      ]
     },
     "metadata": {},
     "output_type": "display_data"
    },
    {
     "data": {
      "application/vnd.jupyter.widget-view+json": {
       "model_id": "a87a08e3fb3a487fae848d988a265058",
       "version_major": 2,
       "version_minor": 0
      },
      "text/plain": [
       "HTML(value='<b>1. Sube tu archivo CSV:</b>')"
      ]
     },
     "metadata": {},
     "output_type": "display_data"
    },
    {
     "data": {
      "application/vnd.jupyter.widget-view+json": {
       "model_id": "c0814906b6c7482aa06add9b5c725ace",
       "version_major": 2,
       "version_minor": 0
      },
      "text/plain": [
       "FileUpload(value=(), accept='.csv', description='Sube tu CSV')"
      ]
     },
     "metadata": {},
     "output_type": "display_data"
    },
    {
     "data": {
      "application/vnd.jupyter.widget-view+json": {
       "model_id": "2c90c6c5ac5c44e2958de89e446510e2",
       "version_major": 2,
       "version_minor": 0
      },
      "text/plain": [
       "Output()"
      ]
     },
     "metadata": {},
     "output_type": "display_data"
    },
    {
     "data": {
      "application/vnd.jupyter.widget-view+json": {
       "model_id": "d888da565a4c4bf8a05b6d84e985929f",
       "version_major": 2,
       "version_minor": 0
      },
      "text/plain": [
       "HTML(value='<b>2. Indica los tipos de variable (opcional):</b>')"
      ]
     },
     "metadata": {},
     "output_type": "display_data"
    },
    {
     "data": {
      "application/vnd.jupyter.widget-view+json": {
       "model_id": "6b97af2417c44cda9b16a2ca12324621",
       "version_major": 2,
       "version_minor": 0
      },
      "text/plain": [
       "VBox()"
      ]
     },
     "metadata": {},
     "output_type": "display_data"
    },
    {
     "data": {
      "application/vnd.jupyter.widget-view+json": {
       "model_id": "6aac3922b89245b4be94dd5e3dfb49ac",
       "version_major": 2,
       "version_minor": 0
      },
      "text/plain": [
       "Output()"
      ]
     },
     "metadata": {},
     "output_type": "display_data"
    },
    {
     "data": {
      "application/vnd.jupyter.widget-view+json": {
       "model_id": "8f7c3b5bb88a4d0ba77a3cedbb971864",
       "version_major": 2,
       "version_minor": 0
      },
      "text/plain": [
       "HTML(value='<h3>Visualización de variable</h3>')"
      ]
     },
     "metadata": {},
     "output_type": "display_data"
    },
    {
     "data": {
      "application/vnd.jupyter.widget-view+json": {
       "model_id": "00e088fa073c40b4a73a683fce4ab58c",
       "version_major": 2,
       "version_minor": 0
      },
      "text/plain": [
       "HBox(children=(Dropdown(description='Variable:', layout=Layout(width='400px'), options=(), value=None), IntSli…"
      ]
     },
     "metadata": {},
     "output_type": "display_data"
    },
    {
     "data": {
      "application/vnd.jupyter.widget-view+json": {
       "model_id": "dd2c142f76444251b2fa55b2d6840456",
       "version_major": 2,
       "version_minor": 0
      },
      "text/plain": [
       "Output()"
      ]
     },
     "metadata": {},
     "output_type": "display_data"
    }
   ],
   "source": [
    "import pandas as pd\n",
    "import io\n",
    "import matplotlib.pyplot as plt\n",
    "from IPython.display import display, clear_output\n",
    "import ipywidgets as widgets\n",
    "\n",
    "# --- helpers ---\n",
    "def infer_type(series):\n",
    "    if pd.api.types.is_numeric_dtype(series):\n",
    "        if series.nunique() <= 20:\n",
    "            return \"Numérica discreta\"\n",
    "        else:\n",
    "            return \"Numérica continua\"\n",
    "    else:\n",
    "        return \"Categórica\"\n",
    "\n",
    "def summarize_variable(df, col, assigned_type):\n",
    "    out = {}\n",
    "    series = df[col]\n",
    "    out[\"Nombre\"] = col\n",
    "    out[\"Tipo de variable\"] = assigned_type\n",
    "    out[\"Vacios\"] = int(series.isna().sum())\n",
    "    out[\"Únicos\"] = int(series.nunique(dropna=True))\n",
    "    if \"Categórica\" in assigned_type:\n",
    "        counts = series.astype(str).value_counts().head(5)\n",
    "        out[\"Categorías\"] = \", \".join([f\"{i}: {v}\" for i, v in counts.items()])\n",
    "        out[\"Media\"] = pd.NA\n",
    "        out[\"Mediana\"] = pd.NA\n",
    "        out[\"Desviación\"] = pd.NA\n",
    "        out[\"Min\"] = pd.NA\n",
    "        out[\"Max\"] = pd.NA\n",
    "    else:\n",
    "        out[\"Categorías\"] = pd.NA\n",
    "        if pd.api.types.is_numeric_dtype(series):\n",
    "            out[\"Media\"] = series.mean()\n",
    "            out[\"Mediana\"] = series.median()\n",
    "            out[\"Desviación\"] = series.std()\n",
    "            out[\"Min\"] = series.min()\n",
    "            out[\"Max\"] = series.max()\n",
    "        else:\n",
    "            out[\"Media\"] = pd.NA\n",
    "            out[\"Mediana\"] = pd.NA\n",
    "            out[\"Desviación\"] = pd.NA\n",
    "            out[\"Min\"] = pd.NA\n",
    "            out[\"Max\"] = pd.NA\n",
    "    return out\n",
    "\n",
    "def leer_csv_flexible(raw_bytes, try_encodings=None):\n",
    "    if try_encodings is None:\n",
    "        try_encodings = [\"utf-8\", \"latin1\", \"cp1252\", \"iso-8859-1\", \"utf-16\"]\n",
    "    for enc in try_encodings:\n",
    "        try:\n",
    "            df = pd.read_csv(io.BytesIO(raw_bytes), encoding=enc)\n",
    "            return df, enc\n",
    "        except Exception:\n",
    "            continue\n",
    "    try:\n",
    "        df = pd.read_csv(io.BytesIO(raw_bytes))\n",
    "        return df, \"default\"\n",
    "    except Exception as e:\n",
    "        raise e\n",
    "\n",
    "def extract_content(upload_value):\n",
    "    if isinstance(upload_value, dict):\n",
    "        return list(upload_value.values())[0]\n",
    "    elif isinstance(upload_value, (tuple, list)) and upload_value:\n",
    "        return upload_value[0]\n",
    "    else:\n",
    "        raise ValueError(\"Formato inesperado de upload.value\")\n",
    "\n",
    "# --- estado ---\n",
    "state = {\"df\": None, \"types\": {}}\n",
    "\n",
    "# --- widgets ---\n",
    "upload = widgets.FileUpload(accept='.csv', multiple=False, description=\"Sube tu CSV\")\n",
    "type_override_box = widgets.VBox()\n",
    "summary_out = widgets.Output()\n",
    "plot_out = widgets.Output()\n",
    "status_out = widgets.Output()\n",
    "\n",
    "var_selector = widgets.Dropdown(description=\"Variable:\", options=[], layout=widgets.Layout(width=\"400px\"))\n",
    "bins_slider = widgets.IntSlider(value=25, min=5, max=100, step=5, description=\"Bins:\", layout=widgets.Layout(width=\"300px\"))\n",
    "log_scale_chk = widgets.Checkbox(value=False, description=\"Escala log\", indent=False)\n",
    "\n",
    "# --- funciones ---\n",
    "def build_type_override_widgets():\n",
    "    children = []\n",
    "    for col, inferred_type in state[\"types\"].items():\n",
    "        dd = widgets.Dropdown(\n",
    "            options=[\"Categórica\", \"Numérica discreta\", \"Numérica continua\"],\n",
    "            value=inferred_type,\n",
    "            description=col,\n",
    "            layout=widgets.Layout(width=\"450px\")\n",
    "        )\n",
    "        def on_change(change, column=col):\n",
    "            state[\"types\"][column] = change[\"new\"]\n",
    "            update_summary()\n",
    "            refresh_variable_selector()\n",
    "            plot_variable()\n",
    "        dd.observe(on_change, names=\"value\")\n",
    "        children.append(dd)\n",
    "    type_override_box.children = children\n",
    "\n",
    "def update_summary():\n",
    "    summary_out.clear_output()\n",
    "    if state[\"df\"] is None:\n",
    "        return\n",
    "    df = state[\"df\"]\n",
    "    with summary_out:\n",
    "        clear_output()\n",
    "        print(\"Resumen de variables\")\n",
    "        summary_list = [summarize_variable(df, col, state[\"types\"][col]) for col in df.columns]\n",
    "        summary_df = pd.DataFrame(summary_list)\n",
    "        cols_order = [\"Nombre\",\"Tipo de variable\",\"Vacios\",\"Únicos\",\"Categorías\",\n",
    "                      \"Media\",\"Mediana\",\"Desviación\",\"Min\",\"Max\"]\n",
    "        summary_df = summary_df[cols_order]\n",
    "        pd.options.display.float_format = '{:.3f}'.format\n",
    "        display(summary_df)\n",
    "\n",
    "def refresh_variable_selector():\n",
    "    if state[\"df\"] is None:\n",
    "        var_selector.options = []\n",
    "        return\n",
    "    var_selector.options = list(state[\"df\"].columns)\n",
    "    if var_selector.options and var_selector.value not in var_selector.options:\n",
    "        var_selector.value = var_selector.options[0]\n",
    "\n",
    "def plot_variable(*args):\n",
    "    plot_out.clear_output()\n",
    "    if state[\"df\"] is None or not var_selector.value:\n",
    "        return\n",
    "    df = state[\"df\"]\n",
    "    var = var_selector.value\n",
    "    assigned_type = state[\"types\"].get(var, \"Categórica\")\n",
    "    series = df[var].dropna()\n",
    "    with plot_out:\n",
    "        clear_output()\n",
    "        if \"Categórica\" in assigned_type:\n",
    "            counts = series.astype(str).value_counts()\n",
    "            plt.figure(figsize=(6,4))\n",
    "            counts.plot.bar()\n",
    "            plt.title(f\"Gráfico de barras: {var}\")\n",
    "            plt.xlabel(var)\n",
    "            plt.ylabel(\"Frecuencia\")\n",
    "            plt.tight_layout()\n",
    "            plt.show()\n",
    "        else:\n",
    "            plt.figure(figsize=(6,3))\n",
    "            plt.hist(series, bins=bins_slider.value)\n",
    "            plt.title(f\"Histograma de {var}\")\n",
    "            plt.xlabel(var)\n",
    "            plt.ylabel(\"Frecuencia\")\n",
    "            if log_scale_chk.value:\n",
    "                plt.yscale(\"log\")\n",
    "            plt.tight_layout()\n",
    "            plt.show()\n",
    "            plt.figure(figsize=(6,2))\n",
    "            plt.boxplot(series, vert=False, whis=1.5, patch_artist=True)\n",
    "            plt.title(f\"Boxplot de {var}\")\n",
    "            plt.tight_layout()\n",
    "            plt.show()\n",
    "\n",
    "def on_upload(change):\n",
    "    plot_out.clear_output()\n",
    "    summary_out.clear_output()\n",
    "    status_out.clear_output()\n",
    "    if not upload.value:\n",
    "        with status_out:\n",
    "            clear_output()\n",
    "            print(\"No se ha subido ningún archivo.\")\n",
    "        return\n",
    "\n",
    "    with status_out:\n",
    "        clear_output()\n",
    "        print(\"Procesando archivo...\")\n",
    "\n",
    "    try:\n",
    "        content = extract_content(upload.value)\n",
    "    except Exception as e:\n",
    "        with status_out:\n",
    "            clear_output()\n",
    "            print(\"Error extrayendo el contenido del upload:\", repr(e))\n",
    "        return\n",
    "\n",
    "    try:\n",
    "        raw = content.get(\"content\", None)\n",
    "        if raw is None:\n",
    "            raise KeyError(\"No se encontró 'content' en el objeto recibido.\")\n",
    "    except Exception as e:\n",
    "        with status_out:\n",
    "            clear_output()\n",
    "            print(\"Error accediendo al contenido bruto del upload:\", repr(e))\n",
    "        return\n",
    "\n",
    "    try:\n",
    "        df, used_enc = leer_csv_flexible(raw)\n",
    "        with status_out:\n",
    "            clear_output()\n",
    "            print(f\"Archivo cargado con codificación: {used_enc}\")\n",
    "    except Exception as e:\n",
    "        with status_out:\n",
    "            clear_output()\n",
    "            print(\"Error al leer el CSV con ninguna codificación probada. Detalle completo:\")\n",
    "            import traceback\n",
    "            traceback.print_exc()\n",
    "        with summary_out:\n",
    "            clear_output()\n",
    "            print(\"No se pudo cargar el CSV. Revisa su formato o codificación.\")\n",
    "        return\n",
    "\n",
    "    state[\"df\"] = df\n",
    "    inferred = {col: infer_type(df[col]) for col in df.columns}\n",
    "    state[\"types\"] = inferred.copy()\n",
    "\n",
    "    build_type_override_widgets()\n",
    "    update_summary()\n",
    "    refresh_variable_selector()\n",
    "    plot_variable()\n",
    "\n",
    "# --- conexiones ---\n",
    "upload.observe(on_upload, names=\"value\")\n",
    "var_selector.observe(plot_variable, names=\"value\")\n",
    "bins_slider.observe(plot_variable, names=\"value\")\n",
    "log_scale_chk.observe(plot_variable, names=\"value\")\n",
    "\n",
    "# --- interfaz ---\n",
    "display(widgets.HTML(\"<h1>Estadística descriptiva</h1>\"))\n",
    "display(widgets.HTML(\"<p>Sube tu archivo CSV, indica los tipos de variable y conoce tus datos 😊</p>\"))\n",
    "display(widgets.HTML(\"<b>1. Sube tu archivo CSV:</b>\"))\n",
    "display(upload)\n",
    "display(status_out)\n",
    "display(widgets.HTML(\"<b>2. Indica los tipos de variable (opcional):</b>\"))\n",
    "display(type_override_box)\n",
    "display(summary_out)\n",
    "\n",
    "display(widgets.HTML(\"<h3>Visualización de variable</h3>\"))\n",
    "display(widgets.HBox([var_selector, bins_slider, log_scale_chk]))\n",
    "display(plot_out)\n"
   ]
  },
  {
   "cell_type": "code",
   "execution_count": null,
   "id": "c20fd355-fcca-4231-b199-f8f08943cf9e",
   "metadata": {},
   "outputs": [],
   "source": []
  }
 ],
 "metadata": {
  "kernelspec": {
   "display_name": "Python 3 (ipykernel)",
   "language": "python",
   "name": "python3"
  },
  "language_info": {
   "codemirror_mode": {
    "name": "ipython",
    "version": 3
   },
   "file_extension": ".py",
   "mimetype": "text/x-python",
   "name": "python",
   "nbconvert_exporter": "python",
   "pygments_lexer": "ipython3",
   "version": "3.13.1"
  }
 },
 "nbformat": 4,
 "nbformat_minor": 5
}
