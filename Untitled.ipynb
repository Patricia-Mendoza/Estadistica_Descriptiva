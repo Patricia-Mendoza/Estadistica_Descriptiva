{
 "cells": [
  {
   "cell_type": "code",
   "execution_count": 15,
   "id": "4c0b9db1-0921-4fbf-b842-ca85bee7738a",
   "metadata": {},
   "outputs": [
    {
     "data": {
      "text/html": [
       "\n",
       "<style>\n",
       "/* Fondo general */\n",
       "body {\n",
       "    background-color: #95c1ed; /* azul muy claro */\n",
       "    font-family: 'Segoe UI', Tahoma, sans-serif;\n",
       "    color: #333333;\n",
       "}\n",
       "\n",
       "/* Títulos */\n",
       "h1, h3, b {\n",
       "    color: #333333;\n",
       "}\n",
       "\n",
       "/* Botones */\n",
       "button {\n",
       "    background-color: #1f7a9c !important;\n",
       "    color: white !important;\n",
       "    border-radius: 6px !important;\n",
       "    padding: 6px 12px !important;\n",
       "}\n",
       "button:hover {\n",
       "    background-color: #45a049 !important;\n",
       "}\n",
       "\n",
       "/* Widgets */\n",
       ".widget-label {\n",
       "    font-weight: bold;\n",
       "    color: #444444;\n",
       "}\n",
       ".widget-dropdown, .widget-text {\n",
       "    border-radius: 5px;\n",
       "    border: 1px solid #ccc;\n",
       "}\n",
       "\n",
       "/* Tablas */\n",
       ".dataframe {\n",
       "    border-collapse: collapse;\n",
       "    width: 100%;\n",
       "}\n",
       ".dataframe th, .dataframe td {\n",
       "    border: 1px solid #ccc;\n",
       "    padding: 6px;\n",
       "}\n",
       ".dataframe th {\n",
       "    background-color: #e0e0e0;\n",
       "}\n",
       "</style>\n"
      ],
      "text/plain": [
       "<IPython.core.display.HTML object>"
      ]
     },
     "metadata": {},
     "output_type": "display_data"
    }
   ],
   "source": [
    "from IPython.display import HTML\n",
    "\n",
    "custom_css = \"\"\"\n",
    "<style>\n",
    "/* Fondo general */\n",
    "body {\n",
    "    background-color: #95c1ed; /* azul muy claro */\n",
    "    font-family: 'Segoe UI', Tahoma, sans-serif;\n",
    "    color: #333333;\n",
    "}\n",
    "\n",
    "/* Títulos */\n",
    "h1, h3, b {\n",
    "    color: #333333;\n",
    "}\n",
    "\n",
    "/* Botones */\n",
    "button {\n",
    "    background-color: #1f7a9c !important;\n",
    "    color: white !important;\n",
    "    border-radius: 6px !important;\n",
    "    padding: 6px 12px !important;\n",
    "}\n",
    "button:hover {\n",
    "    background-color: #45a049 !important;\n",
    "}\n",
    "\n",
    "/* Widgets */\n",
    ".widget-label {\n",
    "    font-weight: bold;\n",
    "    color: #444444;\n",
    "}\n",
    ".widget-dropdown, .widget-text {\n",
    "    border-radius: 5px;\n",
    "    border: 1px solid #ccc;\n",
    "}\n",
    "\n",
    "/* Tablas */\n",
    ".dataframe {\n",
    "    border-collapse: collapse;\n",
    "    width: 100%;\n",
    "}\n",
    ".dataframe th, .dataframe td {\n",
    "    border: 1px solid #ccc;\n",
    "    padding: 6px;\n",
    "}\n",
    ".dataframe th {\n",
    "    background-color: #e0e0e0;\n",
    "}\n",
    "</style>\n",
    "\"\"\"\n",
    "display(HTML(custom_css))\n"
   ]
  },
  {
   "cell_type": "code",
   "execution_count": 18,
   "id": "2131f463-a27a-47d1-b9cf-9aea519e967a",
   "metadata": {},
   "outputs": [
    {
     "data": {
      "application/vnd.jupyter.widget-view+json": {
       "model_id": "a6ff5fb8b72d4ed69338ee9957f9335a",
       "version_major": 2,
       "version_minor": 0
      },
      "text/plain": [
       "HTML(value='<h1>Estadística descriptiva</h1>')"
      ]
     },
     "metadata": {},
     "output_type": "display_data"
    },
    {
     "data": {
      "application/vnd.jupyter.widget-view+json": {
       "model_id": "ef67ccd6bae94a7694a62d2beaad2ba9",
       "version_major": 2,
       "version_minor": 0
      },
      "text/plain": [
       "HTML(value='<p>Sube tu archivo Excel, indica los tipos de variable y conoce tus datos 😊</p>')"
      ]
     },
     "metadata": {},
     "output_type": "display_data"
    },
    {
     "data": {
      "application/vnd.jupyter.widget-view+json": {
       "model_id": "eb44aaa7aba945479b415793b8651ecf",
       "version_major": 2,
       "version_minor": 0
      },
      "text/plain": [
       "HTML(value='<b> 📂  1. Sube tu archivo Excel:</b>')"
      ]
     },
     "metadata": {},
     "output_type": "display_data"
    },
    {
     "data": {
      "application/vnd.jupyter.widget-view+json": {
       "model_id": "80049ebf61a94e1da98576be0e42a667",
       "version_major": 2,
       "version_minor": 0
      },
      "text/plain": [
       "FileUpload(value=(), accept='.xls,.xlsx', description='Sube tu archivo Excel')"
      ]
     },
     "metadata": {},
     "output_type": "display_data"
    },
    {
     "data": {
      "application/vnd.jupyter.widget-view+json": {
       "model_id": "d3304ad40bdc43bc8c2299f0e64dbccb",
       "version_major": 2,
       "version_minor": 0
      },
      "text/plain": [
       "Output()"
      ]
     },
     "metadata": {},
     "output_type": "display_data"
    },
    {
     "data": {
      "application/vnd.jupyter.widget-view+json": {
       "model_id": "99cf992ff10f4700b2d4daac7463cf89",
       "version_major": 2,
       "version_minor": 0
      },
      "text/plain": [
       "HTML(value='<b>2. Indica los tipos de variable (opcional):</b>')"
      ]
     },
     "metadata": {},
     "output_type": "display_data"
    },
    {
     "data": {
      "application/vnd.jupyter.widget-view+json": {
       "model_id": "941be42ef3ac487181d42458a0638468",
       "version_major": 2,
       "version_minor": 0
      },
      "text/plain": [
       "VBox()"
      ]
     },
     "metadata": {},
     "output_type": "display_data"
    },
    {
     "data": {
      "application/vnd.jupyter.widget-view+json": {
       "model_id": "24b1699c83394c1a82217468ed9b2916",
       "version_major": 2,
       "version_minor": 0
      },
      "text/plain": [
       "Output()"
      ]
     },
     "metadata": {},
     "output_type": "display_data"
    },
    {
     "data": {
      "application/vnd.jupyter.widget-view+json": {
       "model_id": "d6a3ef68ea92446ea62ca45a24ad5629",
       "version_major": 2,
       "version_minor": 0
      },
      "text/plain": [
       "HTML(value='<h3> 📊 Visualización de variable</h3>')"
      ]
     },
     "metadata": {},
     "output_type": "display_data"
    },
    {
     "data": {
      "application/vnd.jupyter.widget-view+json": {
       "model_id": "5ccd5a52dc3645129a33179850b7fd87",
       "version_major": 2,
       "version_minor": 0
      },
      "text/plain": [
       "HBox(children=(Dropdown(description='Variable:', layout=Layout(width='400px'), options=(), value=None), IntSli…"
      ]
     },
     "metadata": {},
     "output_type": "display_data"
    },
    {
     "data": {
      "application/vnd.jupyter.widget-view+json": {
       "model_id": "1e7d4dc8feb84f88968de0fe7133a38b",
       "version_major": 2,
       "version_minor": 0
      },
      "text/plain": [
       "Output()"
      ]
     },
     "metadata": {},
     "output_type": "display_data"
    }
   ],
   "source": [
    "import pandas as pd\n",
    "import io\n",
    "import matplotlib.pyplot as plt\n",
    "from IPython.display import display, clear_output, HTML\n",
    "import ipywidgets as widgets\n",
    "\n",
    "# --- helpers ---\n",
    "def infer_type(series):\n",
    "    if pd.api.types.is_numeric_dtype(series):\n",
    "        if series.nunique() <= 20:\n",
    "            return \"Numérica discreta\"\n",
    "        else:\n",
    "            return \"Numérica continua\"\n",
    "    else:\n",
    "        return \"Categórica\"\n",
    "\n",
    "def summarize_variable(df, col, assigned_type):\n",
    "    out = {}\n",
    "    series = df[col]\n",
    "    out[\"Nombre\"] = col\n",
    "    out[\"Tipo de variable\"] = assigned_type\n",
    "    out[\"Vacios\"] = int(series.isna().sum())\n",
    "    out[\"Únicos\"] = int(series.nunique(dropna=True))\n",
    "    if \"Categórica\" in assigned_type:\n",
    "        counts = series.astype(str).value_counts().head(5)\n",
    "        out[\"Categorías\"] = \", \".join([f\"{i}: {v}\" for i, v in counts.items()])\n",
    "        out[\"Media\"] = pd.NA\n",
    "        out[\"Mediana\"] = pd.NA\n",
    "        out[\"Q1\"] = pd.NA\n",
    "        out[\"Q3\"] = pd.NA\n",
    "        out[\"Desviación\"] = pd.NA\n",
    "        out[\"Min\"] = pd.NA\n",
    "        out[\"Max\"] = pd.NA\n",
    "    else:\n",
    "        out[\"Categorías\"] = pd.NA\n",
    "        if pd.api.types.is_numeric_dtype(series):\n",
    "            out[\"Media\"] = series.mean()\n",
    "            out[\"Mediana\"] = series.median()\n",
    "            out[\"Q1\"] = series.quantile(0.25)\n",
    "            out[\"Q3\"] = series.quantile(0.75)\n",
    "            out[\"Desviación\"] = series.std()\n",
    "            out[\"Min\"] = series.min()\n",
    "            out[\"Max\"] = series.max()\n",
    "        else:\n",
    "            out[\"Media\"] = pd.NA\n",
    "            out[\"Mediana\"] = pd.NA\n",
    "            out[\"Q1\"] = pd.NA\n",
    "            out[\"Q3\"] = pd.NA\n",
    "            out[\"Desviación\"] = pd.NA\n",
    "            out[\"Min\"] = pd.NA\n",
    "            out[\"Max\"] = pd.NA\n",
    "    return out\n",
    "\n",
    "def leer_excel_flexible(raw_bytes):\n",
    "    df = pd.read_excel(io.BytesIO(raw_bytes))\n",
    "    return df, \"default\"\n",
    "\n",
    "def extract_content(upload_value):\n",
    "    if isinstance(upload_value, dict):\n",
    "        return list(upload_value.values())[0]\n",
    "    elif isinstance(upload_value, (tuple, list)) and upload_value:\n",
    "        return upload_value[0]\n",
    "    else:\n",
    "        raise ValueError(\"Formato inesperado de upload.value\")\n",
    "\n",
    "def interpretar_variable_html(df, col, assigned_type):\n",
    "    serie = df[col].dropna()\n",
    "    n = len(serie)\n",
    "    if n == 0:\n",
    "        return \"<p>No hay datos</p>\"\n",
    "    \n",
    "    if \"Categórica\" in assigned_type:\n",
    "        counts = serie.astype(str).value_counts(normalize=True)\n",
    "        top_cat = counts.idxmax()\n",
    "        top_pct = counts.max() * 100\n",
    "        n_unique = serie.nunique()\n",
    "        text = f\"<p>La variable '<b>{col}</b>' es categórica con <b>{n_unique}</b> categorías únicas.</p>\"\n",
    "        text += f\"<p>La categoría con más frecuencia es '<b>{top_cat}</b>', representando el <b>{top_pct:.1f}%</b> de los datos.</p>\"\n",
    "        return text\n",
    "    \n",
    "    # Variables numéricas\n",
    "    mean = serie.mean()\n",
    "    median = serie.median()\n",
    "    q1 = serie.quantile(0.25)\n",
    "    q3 = serie.quantile(0.75)\n",
    "    iqr = q3 - q1\n",
    "    std = serie.std()\n",
    "    min_v = serie.min()\n",
    "    max_v = serie.max()\n",
    "\n",
    "    text = f\"<p>La variable '<b>{col}</b>' es numérica con <b>{n}</b> observaciones.</p>\"\n",
    "    text += f\"<p>Media (promedio) = <b>{mean:.3f}</b>, Mediana (Q2) = <b>{median:.3f}</b>.</p>\"\n",
    "    text += f\"<p>La desviación estándar es <b>{std:.3f}</b>, lo que nos indica la distancia promedio de los datos a la media.</p>\"\n",
    "    text += f\"<p>El rango intercuartílico IQR (Q3 - Q1) es <b>{iqr:.3f}</b>, lo que indica dispersión central.</p>\"\n",
    "    text += (\n",
    "        \"<ul>\"\n",
    "        \"<li>Un IQR pequeño → el 50% central de los datos está muy agrupado (baja variabilidad central).</li>\"\n",
    "        \"<li>Un IQR grande → el 50% central está muy disperso (alta variabilidad central).</li>\"\n",
    "        \"</ul>\"\n",
    "    )\n",
    "    text += f\"<p>El rango total va de <b>{min_v:.3f}</b> a <b>{max_v:.3f}</b>.</p>\"\n",
    "\n",
    "    lower_bound = q1 - 1.5 * iqr\n",
    "    upper_bound = q3 + 1.5 * iqr\n",
    "    outliers = serie[(serie < lower_bound) | (serie > upper_bound)]\n",
    "    if len(outliers) > 0:\n",
    "        text += f\"<p>Se tienen <b>{len(outliers)}</b> valores atípicos (valores fuera de los límites) [{lower_bound:.3f}, {upper_bound:.3f}].</p>\"\n",
    "    else:\n",
    "        text += \"<p>No se detectaron valores atípicos evidentes.</p>\"\n",
    "\n",
    "    return text\n",
    "\n",
    "# --- estado ---\n",
    "state = {\"df\": None, \"types\": {}}\n",
    "\n",
    "# --- widgets ---\n",
    "upload = widgets.FileUpload(accept='.xls,.xlsx', multiple=False, description=\"Sube tu archivo Excel\")\n",
    "type_override_box = widgets.VBox()\n",
    "summary_out = widgets.Output()\n",
    "plot_out = widgets.Output()\n",
    "status_out = widgets.Output()\n",
    "\n",
    "var_selector = widgets.Dropdown(description=\"Variable:\", options=[], layout=widgets.Layout(width=\"400px\"))\n",
    "bins_slider = widgets.IntSlider(value=25, min=5, max=100, step=5, description=\"Bins:\", layout=widgets.Layout(width=\"300px\"))\n",
    "log_scale_chk = widgets.Checkbox(value=False, description=\"Escala log\", indent=False)\n",
    "\n",
    "# --- funciones ---\n",
    "def build_type_override_widgets():\n",
    "    children = []\n",
    "    for col, inferred_type in state[\"types\"].items():\n",
    "        dd = widgets.Dropdown(\n",
    "            options=[\"Categórica\", \"Numérica discreta\", \"Numérica continua\"],\n",
    "            value=inferred_type,\n",
    "            description=col,\n",
    "            layout=widgets.Layout(width=\"450px\")\n",
    "        )\n",
    "        def on_change(change, column=col):\n",
    "            state[\"types\"][column] = change[\"new\"]\n",
    "            update_summary()\n",
    "            refresh_variable_selector()\n",
    "            plot_variable()\n",
    "        dd.observe(on_change, names=\"value\")\n",
    "        children.append(dd)\n",
    "    type_override_box.children = children\n",
    "\n",
    "def update_summary(*args):\n",
    "    summary_out.clear_output()\n",
    "    if state[\"df\"] is None:\n",
    "        return\n",
    "    df = state[\"df\"]\n",
    "    with summary_out:\n",
    "        clear_output()\n",
    "        print(\"Resumen de variables\")\n",
    "        summary_list = [summarize_variable(df, col, state[\"types\"][col]) for col in df.columns]\n",
    "        summary_df = pd.DataFrame(summary_list)\n",
    "        cols_order = [\"Nombre\",\"Tipo de variable\",\"Vacios\",\"Únicos\",\"Categorías\",\n",
    "                      \"Media\",\"Mediana\",\"Q1\",\"Q3\",\"Desviación\",\"Min\",\"Max\"]\n",
    "        summary_df = summary_df[cols_order]\n",
    "        pd.options.display.float_format = '{:.3f}'.format\n",
    "        display(summary_df)\n",
    "\n",
    "        var = var_selector.value\n",
    "        if var is not None:\n",
    "            assigned_type = state[\"types\"].get(var, \"Categórica\")\n",
    "            display(HTML(\"<h4>Resultados de la variable seleccionada:</h4>\"))\n",
    "            texto_interpretacion = interpretar_variable_html(df, var, assigned_type)\n",
    "            display(HTML(texto_interpretacion))\n",
    "\n",
    "def refresh_variable_selector():\n",
    "    if state[\"df\"] is None:\n",
    "        var_selector.options = []\n",
    "        return\n",
    "    var_selector.options = list(state[\"df\"].columns)\n",
    "    if var_selector.options and var_selector.value not in var_selector.options:\n",
    "        var_selector.value = var_selector.options[0]\n",
    "\n",
    "def plot_variable(*args):\n",
    "    plot_out.clear_output()\n",
    "    if state[\"df\"] is None or not var_selector.value:\n",
    "        return\n",
    "    df = state[\"df\"]\n",
    "    var = var_selector.value\n",
    "    assigned_type = state[\"types\"].get(var, \"Categórica\")\n",
    "    series = df[var].dropna()\n",
    "    with plot_out:\n",
    "        clear_output()\n",
    "        if \"Categórica\" in assigned_type:\n",
    "            counts = series.astype(str).value_counts()\n",
    "            plt.figure(figsize=(6,4))\n",
    "            counts.plot.bar()\n",
    "            plt.title(f\"Gráfico de barras: {var}\")\n",
    "            plt.xlabel(var)\n",
    "            plt.ylabel(\"Frecuencia\")\n",
    "            plt.tight_layout()\n",
    "            plt.show()\n",
    "        else:\n",
    "            plt.figure(figsize=(6,3))\n",
    "            plt.hist(series, bins=bins_slider.value)\n",
    "            plt.title(f\"Histograma de {var}\")\n",
    "            plt.xlabel(var)\n",
    "            plt.ylabel(\"Frecuencia\")\n",
    "            if log_scale_chk.value:\n",
    "                plt.yscale(\"log\")\n",
    "            plt.tight_layout()\n",
    "            plt.show()\n",
    "            plt.figure(figsize=(6,2))\n",
    "            plt.boxplot(series, vert=False, whis=1.5, patch_artist=True)\n",
    "            plt.title(f\"Boxplot de {var}\")\n",
    "            plt.tight_layout()\n",
    "            plt.show()\n",
    "\n",
    "def on_upload(change):\n",
    "    plot_out.clear_output()\n",
    "    summary_out.clear_output()\n",
    "    status_out.clear_output()\n",
    "    if not upload.value:\n",
    "        with status_out:\n",
    "            clear_output()\n",
    "            print(\"No se ha subido ningún archivo.\")\n",
    "        return\n",
    "\n",
    "    with status_out:\n",
    "        clear_output()\n",
    "        print(\"Procesando archivo...\")\n",
    "\n",
    "    try:\n",
    "        content = extract_content(upload.value)\n",
    "    except Exception as e:\n",
    "        with status_out:\n",
    "            clear_output()\n",
    "            print(\"Error extrayendo el contenido del upload:\", repr(e))\n",
    "        return\n",
    "\n",
    "    try:\n",
    "        raw = content.get(\"content\", None)\n",
    "        if raw is None:\n",
    "            raise KeyError(\"No se encontró 'content' en el objeto recibido.\")\n",
    "    except Exception as e:\n",
    "        with status_out:\n",
    "            clear_output()\n",
    "            print(\"Error accediendo al contenido bruto del upload:\", repr(e))\n",
    "        return\n",
    "\n",
    "    try:\n",
    "        df, _ = leer_excel_flexible(raw)\n",
    "        with status_out:\n",
    "            clear_output()\n",
    "            print(f\"Archivo cargado correctamente.\")\n",
    "    except Exception as e:\n",
    "        with status_out:\n",
    "            clear_output()\n",
    "            print(\"Error al leer el archivo Excel. Detalle completo:\")\n",
    "            import traceback\n",
    "            traceback.print_exc()\n",
    "        with summary_out:\n",
    "            clear_output()\n",
    "            print(\"No se pudo cargar el archivo. Revisa su formato.\")\n",
    "        return\n",
    "\n",
    "    state[\"df\"] = df\n",
    "    inferred = {col: infer_type(df[col]) for col in df.columns}\n",
    "    state[\"types\"] = inferred.copy()\n",
    "\n",
    "    build_type_override_widgets()\n",
    "    update_summary()\n",
    "    refresh_variable_selector()\n",
    "    plot_variable()\n",
    "\n",
    "# --- conexiones ---\n",
    "upload.observe(on_upload, names=\"value\")\n",
    "var_selector.observe(update_summary, names=\"value\")\n",
    "var_selector.observe(plot_variable, names=\"value\")\n",
    "bins_slider.observe(plot_variable, names=\"value\")\n",
    "log_scale_chk.observe(plot_variable, names=\"value\")\n",
    "\n",
    "# --- interfaz ---\n",
    "display(widgets.HTML(\"<h1>Estadística descriptiva</h1>\"))\n",
    "display(widgets.HTML(\"<p>Sube tu archivo Excel, indica los tipos de variable y conoce tus datos 😊</p>\"))\n",
    "display(widgets.HTML(\"<b> 📂  1. Sube tu archivo Excel:</b>\"))\n",
    "display(upload)\n",
    "display(status_out)\n",
    "display(widgets.HTML(\"<b>2. Indica los tipos de variable (opcional):</b>\"))\n",
    "display(type_override_box)\n",
    "display(summary_out)\n",
    "\n",
    "display(widgets.HTML(\"<h3> 📊 Visualización de variable</h3>\"))\n",
    "display(widgets.HBox([var_selector, bins_slider, log_scale_chk]))\n",
    "display(plot_out)\n",
    "\n"
   ]
  },
  {
   "cell_type": "code",
   "execution_count": null,
   "id": "5e5c28a3-5d28-4e53-a829-ed0c623d1f04",
   "metadata": {},
   "outputs": [],
   "source": []
  },
  {
   "cell_type": "code",
   "execution_count": null,
   "id": "16259312-b353-4810-b395-cbd8efe5a948",
   "metadata": {},
   "outputs": [],
   "source": []
  }
 ],
 "metadata": {
  "kernelspec": {
   "display_name": "Python 3 (ipykernel)",
   "language": "python",
   "name": "python3"
  },
  "language_info": {
   "codemirror_mode": {
    "name": "ipython",
    "version": 3
   },
   "file_extension": ".py",
   "mimetype": "text/x-python",
   "name": "python",
   "nbconvert_exporter": "python",
   "pygments_lexer": "ipython3",
   "version": "3.13.1"
  }
 },
 "nbformat": 4,
 "nbformat_minor": 5
}
